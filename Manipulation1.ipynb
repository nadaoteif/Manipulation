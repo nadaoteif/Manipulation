{
  "nbformat": 4,
  "nbformat_minor": 0,
  "metadata": {
    "colab": {
      "provenance": [],
      "authorship_tag": "ABX9TyPaK2hFmdUdTd8tgkPmG4uA",
      "include_colab_link": true
    },
    "kernelspec": {
      "name": "python3",
      "display_name": "Python 3"
    },
    "language_info": {
      "name": "python"
    }
  },
  "cells": [
    {
      "cell_type": "markdown",
      "metadata": {
        "id": "view-in-github",
        "colab_type": "text"
      },
      "source": [
        "<a href=\"https://colab.research.google.com/github/nadaoteif/Manipulation/blob/main/Manipulation1.ipynb\" target=\"_parent\"><img src=\"https://colab.research.google.com/assets/colab-badge.svg\" alt=\"Open In Colab\"/></a>"
      ]
    },
    {
      "cell_type": "code",
      "source": [
        "import pandas as pd\n",
        "import numpy as np\n",
        "import matplotlib.pyplot as plt\n",
        "import seaborn as sns\n",
        "burritos_data = pd.read_csv(\"/content/burritos.csv\")\n",
        "burritos_data"
      ],
      "metadata": {
        "id": "DuOJMqeSj454"
      },
      "execution_count": null,
      "outputs": []
    },
    {
      "cell_type": "code",
      "source": [
        "#  Histogram \n",
        "plt.figure(figsize=(12,6))\n",
        "plt.title(\"Google data of burritos\")\n",
        "sns.histplot(burritos_data['Google'])\n",
        "plt.xlabel(\"Google\")\n"
      ],
      "metadata": {
        "id": "gGGii3sQk3tw"
      },
      "execution_count": null,
      "outputs": []
    },
    {
      "cell_type": "code",
      "source": [
        "#how many missing values are present in each column\n",
        "burritos_data.isnull().sum()"
      ],
      "metadata": {
        "id": "OxtBW8tRm0V4"
      },
      "execution_count": null,
      "outputs": []
    },
    {
      "cell_type": "code",
      "source": [
        "# The total amount of missing values\n",
        "\n",
        "burritos_data.isnull().sum().sum()"
      ],
      "metadata": {
        "id": "bySSt921pE9P"
      },
      "execution_count": null,
      "outputs": []
    },
    {
      "cell_type": "code",
      "source": [
        "# Choose a Yelp column and replace NaN values with the mean\n",
        "burritos_data['Yelp'] = burritos_data['Yelp'].fillna(burritos_data['Yelp'].mean())\n",
        "burritos_data"
      ],
      "metadata": {
        "id": "UkAUpl2rpSXc"
      },
      "execution_count": null,
      "outputs": []
    },
    {
      "cell_type": "code",
      "source": [
        "# Choose a Google\tcolumn and replace NaN values with the median\n",
        "\n",
        "burritos_data['Google'] = burritos_data['Google'].fillna(burritos_data['Google'].median())\n",
        "burritos_data\n"
      ],
      "metadata": {
        "id": "QidZawodsDSY"
      },
      "execution_count": null,
      "outputs": []
    },
    {
      "cell_type": "code",
      "source": [
        "# Choose a URL column and replace NaN values with the mode\n",
        "\n",
        "burritos_data['URL'] = burritos_data['URL'].fillna(burritos_data['URL'].mode()[0])\n",
        "burritos_data"
      ],
      "metadata": {
        "id": "w1-f2tAisYUQ"
      },
      "execution_count": null,
      "outputs": []
    },
    {
      "cell_type": "code",
      "source": [
        "# Choose a Nopales column and replace NaN values with zeros\n",
        "burritos_data['Nopales'] = burritos_data['Nopales'].fillna(0)\n",
        "burritos_data"
      ],
      "metadata": {
        "id": "zU_oKOuvvKBH"
      },
      "execution_count": null,
      "outputs": []
    },
    {
      "cell_type": "code",
      "source": [
        "# Choose a Address column and replace NaN values with backward filling\n",
        "burritos_data['Address'] = burritos_data['Address'].fillna(burritos_data['Address'].bfill())\n",
        "burritos_data\n"
      ],
      "metadata": {
        "id": "PesPdgmywHWA"
      },
      "execution_count": null,
      "outputs": []
    },
    {
      "cell_type": "code",
      "source": [
        "# Choose a Neighborhood column and replace NaN values with forwards filling\n",
        "burritos_data['Neighborhood'] = burritos_data['Neighborhood'].fillna(burritos_data['Neighborhood'].ffill())\n",
        "burritos_data\n"
      ],
      "metadata": {
        "id": "3Zqq4F0cwq8B"
      },
      "execution_count": null,
      "outputs": []
    }
  ]
}